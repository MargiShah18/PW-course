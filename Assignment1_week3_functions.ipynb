{
 "cells": [
  {
   "cell_type": "markdown",
   "id": "880f0bd0-3645-44d8-a0e6-634443c4c5ae",
   "metadata": {},
   "source": [
    "Q-1\n",
    "\n",
    "\n",
    "For creating function 'def' keyword is used"
   ]
  },
  {
   "cell_type": "code",
   "execution_count": 1,
   "id": "b5c2d2eb-c6d1-4aaa-bc4c-e93ddbab2575",
   "metadata": {},
   "outputs": [],
   "source": [
    "l=[]\n",
    "for i in range(25):\n",
    "    l.append(i)"
   ]
  },
  {
   "cell_type": "code",
   "execution_count": 2,
   "id": "03de29e1-58bc-4bd7-8c7a-addbaf245f69",
   "metadata": {},
   "outputs": [
    {
     "data": {
      "text/plain": [
       "[1, 3, 5, 7, 9, 11, 13, 15, 17, 19, 21, 23]"
      ]
     },
     "execution_count": 2,
     "metadata": {},
     "output_type": "execute_result"
    }
   ],
   "source": [
    "list(filter(lambda x:x%2!=0,l))"
   ]
  },
  {
   "cell_type": "markdown",
   "id": "1013ca52-948e-415b-8ea2-12fe7581241a",
   "metadata": {},
   "source": [
    "Q-2\n",
    "\n",
    "*args and **kwargs are used because these make a Python function flexible so it can accept a variable number of arguments and keyword arguments.\n",
    "\n",
    "They are basically used to create a dynamic arguement accepting functions.\n",
    "\n",
    "*args is used to give any number of variables as input\n",
    "\n",
    "**kwargs is used to give any number of key value pair as input"
   ]
  },
  {
   "cell_type": "code",
   "execution_count": 3,
   "id": "1caa328f-8a8e-4133-8353-88d3c0ea9bd6",
   "metadata": {},
   "outputs": [],
   "source": [
    "def num(*args):\n",
    "    return args"
   ]
  },
  {
   "cell_type": "code",
   "execution_count": 4,
   "id": "6a77e4d1-bbfc-41ff-a1be-06f977aa2b3b",
   "metadata": {},
   "outputs": [
    {
     "data": {
      "text/plain": [
       "(1, 2, 3, 4, 5)"
      ]
     },
     "execution_count": 4,
     "metadata": {},
     "output_type": "execute_result"
    }
   ],
   "source": [
    "num(1,2,3,4,5)"
   ]
  },
  {
   "cell_type": "code",
   "execution_count": 5,
   "id": "fe3002eb-238a-46f9-9d13-083af73c59ce",
   "metadata": {},
   "outputs": [],
   "source": [
    "def hello(**kwargs):\n",
    "    return kwargs"
   ]
  },
  {
   "cell_type": "code",
   "execution_count": 6,
   "id": "711b5f87-830b-4ca6-9c54-8febd8b72f49",
   "metadata": {},
   "outputs": [
    {
     "data": {
      "text/plain": [
       "{'name': 'Margi', 'lastname': 'Shah'}"
      ]
     },
     "execution_count": 6,
     "metadata": {},
     "output_type": "execute_result"
    }
   ],
   "source": [
    "hello(name=\"Margi\",lastname=\"Shah\")"
   ]
  },
  {
   "cell_type": "markdown",
   "id": "a724c774-7abe-4731-90b8-e40fabe6785a",
   "metadata": {},
   "source": [
    "Q-3\n",
    "\n",
    "An iterator in Python is an object that is used to iterate over iterable objects like lists, tuples, dicts, and sets.\n",
    "\n",
    "The Python iterators object is initialized using the iter() method. \n",
    "\n",
    "It uses the next() method for iteration."
   ]
  },
  {
   "cell_type": "code",
   "execution_count": 7,
   "id": "9e300706-be22-4fee-b3f8-9b706b5f270a",
   "metadata": {},
   "outputs": [],
   "source": [
    "l1=[2,4,6,8,10,12,14,16,18,20]"
   ]
  },
  {
   "cell_type": "code",
   "execution_count": 15,
   "id": "8fc731e8-1f17-45a7-b5ab-fe1553693555",
   "metadata": {},
   "outputs": [
    {
     "name": "stdout",
     "output_type": "stream",
     "text": [
      "2\n",
      "4\n",
      "6\n",
      "8\n",
      "10\n"
     ]
    }
   ],
   "source": [
    "myit=iter(l1)\n",
    "print(next(myit))\n",
    "print(next(myit))\n",
    "print(next(myit))\n",
    "print(next(myit))\n",
    "print(next(myit))"
   ]
  },
  {
   "cell_type": "markdown",
   "id": "0ad3e5cd-7bf4-43bc-a6bc-f781678e31de",
   "metadata": {},
   "source": [
    "Q-4\n",
    "\n",
    "Generator Function in python allows you to declare a function that behaves like an iterator, providing a faster and easier way to create iterators.\n",
    "\n",
    "yield keyword is used to create a generator function. yield keyword will turn any expression that is given with it into a generator object and return it to the caller.he yield keyword will convert an expression that is specified along with it to a generator object and return it to the caller. Hence, if you want to get the values stored inside the generator object, you need to iterate over it.\n"
   ]
  },
  {
   "cell_type": "code",
   "execution_count": 16,
   "id": "1ddce734-f11f-4453-ae10-861404658120",
   "metadata": {},
   "outputs": [],
   "source": [
    "def countnumbers(n):\n",
    "    count=1\n",
    "    while count<n:\n",
    "        yield count\n",
    "        count=count+1"
   ]
  },
  {
   "cell_type": "code",
   "execution_count": 17,
   "id": "ba2e2241-d75b-450a-a4ea-d188a35b6b97",
   "metadata": {},
   "outputs": [
    {
     "data": {
      "text/plain": [
       "<generator object countnumbers at 0x7f410dcadee0>"
      ]
     },
     "execution_count": 17,
     "metadata": {},
     "output_type": "execute_result"
    }
   ],
   "source": [
    "countnumbers(100)"
   ]
  },
  {
   "cell_type": "code",
   "execution_count": 19,
   "id": "6d4265d9-2e0f-4569-858f-b49c8b023ebb",
   "metadata": {},
   "outputs": [
    {
     "name": "stdout",
     "output_type": "stream",
     "text": [
      "1\n",
      "2\n",
      "3\n",
      "4\n",
      "5\n",
      "6\n",
      "7\n",
      "8\n",
      "9\n",
      "10\n",
      "11\n",
      "12\n",
      "13\n",
      "14\n",
      "15\n",
      "16\n",
      "17\n",
      "18\n",
      "19\n",
      "20\n",
      "21\n",
      "22\n",
      "23\n",
      "24\n",
      "25\n",
      "26\n",
      "27\n",
      "28\n",
      "29\n",
      "30\n",
      "31\n",
      "32\n",
      "33\n",
      "34\n",
      "35\n",
      "36\n",
      "37\n",
      "38\n",
      "39\n",
      "40\n",
      "41\n",
      "42\n",
      "43\n",
      "44\n",
      "45\n",
      "46\n",
      "47\n",
      "48\n",
      "49\n",
      "50\n",
      "51\n",
      "52\n",
      "53\n",
      "54\n",
      "55\n",
      "56\n",
      "57\n",
      "58\n",
      "59\n",
      "60\n",
      "61\n",
      "62\n",
      "63\n",
      "64\n",
      "65\n",
      "66\n",
      "67\n",
      "68\n",
      "69\n",
      "70\n",
      "71\n",
      "72\n",
      "73\n",
      "74\n",
      "75\n",
      "76\n",
      "77\n",
      "78\n",
      "79\n",
      "80\n",
      "81\n",
      "82\n",
      "83\n",
      "84\n",
      "85\n",
      "86\n",
      "87\n",
      "88\n",
      "89\n",
      "90\n",
      "91\n",
      "92\n",
      "93\n",
      "94\n",
      "95\n",
      "96\n",
      "97\n",
      "98\n",
      "99\n"
     ]
    }
   ],
   "source": [
    "for i in countnumbers(100):\n",
    "    print(i)"
   ]
  },
  {
   "cell_type": "markdown",
   "id": "dfc41ba4-a36c-468d-bfa0-ee13e82de00b",
   "metadata": {},
   "source": [
    "Q-5"
   ]
  },
  {
   "cell_type": "code",
   "execution_count": 25,
   "id": "d7aee02f-15a9-49cc-8fd8-948077efab0b",
   "metadata": {},
   "outputs": [
    {
     "name": "stdout",
     "output_type": "stream",
     "text": [
      "2\n",
      "3\n",
      "5\n",
      "7\n",
      "11\n",
      "13\n",
      "17\n",
      "19\n",
      "23\n",
      "29\n",
      "31\n",
      "37\n",
      "41\n",
      "43\n",
      "47\n",
      "53\n",
      "59\n",
      "61\n",
      "67\n",
      "71\n"
     ]
    }
   ],
   "source": [
    "def primenumber():\n",
    "    yield 2\n",
    "    prime_list = [2]\n",
    "    for i in range(3, 1000):\n",
    "        is_prime = True\n",
    "        for prime in prime_list:\n",
    "            if i % prime == 0:\n",
    "                is_prime = False\n",
    "                break\n",
    "        if is_prime:\n",
    "            prime_list.append(i)\n",
    "            yield i\n",
    "\n",
    "prime_generator = primenumber()\n",
    "for i in range(20):\n",
    "    print(next(prime_generator))\n"
   ]
  },
  {
   "cell_type": "markdown",
   "id": "7308c0ad-08d8-4d9d-985e-df9bfec6ecb0",
   "metadata": {},
   "source": [
    "Q-6"
   ]
  },
  {
   "cell_type": "code",
   "execution_count": 28,
   "id": "1d3c1e2e-539b-4779-aa70-e3b4f28d4282",
   "metadata": {},
   "outputs": [],
   "source": [
    "def test_fib():\n",
    "    a,b=0,1\n",
    "    while True:\n",
    "        yield a\n",
    "        a,b=b,a+b"
   ]
  },
  {
   "cell_type": "code",
   "execution_count": 30,
   "id": "0a4385ab-645c-4326-a1e1-b060ec9560a2",
   "metadata": {},
   "outputs": [
    {
     "name": "stdout",
     "output_type": "stream",
     "text": [
      "0\n",
      "1\n",
      "1\n",
      "2\n",
      "3\n",
      "5\n",
      "8\n",
      "13\n",
      "21\n",
      "34\n"
     ]
    }
   ],
   "source": [
    "fib=test_fib()\n",
    "for i in range(10):\n",
    "    print(next(fib))"
   ]
  },
  {
   "cell_type": "markdown",
   "id": "45af5a66-2ec4-4c69-9177-12f681978d49",
   "metadata": {},
   "source": [
    "Q-7"
   ]
  },
  {
   "cell_type": "code",
   "execution_count": 31,
   "id": "00d95619-0a0d-461b-b597-fd40bdb7b5a7",
   "metadata": {},
   "outputs": [
    {
     "data": {
      "text/plain": [
       "['p', 'w', 's', 'k', 'i', 'l', 'l', 's']"
      ]
     },
     "execution_count": 31,
     "metadata": {},
     "output_type": "execute_result"
    }
   ],
   "source": [
    "s=\"pwskills\"\n",
    "list(map(lambda s:s,s))"
   ]
  },
  {
   "cell_type": "markdown",
   "id": "19307109-e147-48a1-96b3-04b883a9eeb3",
   "metadata": {},
   "source": [
    "OR"
   ]
  },
  {
   "cell_type": "code",
   "execution_count": 39,
   "id": "0159a8c0-6b8d-4da4-be53-5859e28f4b1d",
   "metadata": {},
   "outputs": [
    {
     "data": {
      "text/plain": [
       "['p', 'w', 's', 'k', 'i', 'l', 'l', 's']"
      ]
     },
     "execution_count": 39,
     "metadata": {},
     "output_type": "execute_result"
    }
   ],
   "source": [
    "list(s)"
   ]
  },
  {
   "cell_type": "markdown",
   "id": "20257779-4bf5-4dbf-b11b-16da739863ac",
   "metadata": {},
   "source": [
    "OR"
   ]
  },
  {
   "cell_type": "code",
   "execution_count": 40,
   "id": "ed5d8e64-9a37-4ece-9616-26bafc5f5841",
   "metadata": {},
   "outputs": [],
   "source": [
    "l3=[]\n",
    "for i in s:\n",
    "    l3.append(i)\n",
    "    "
   ]
  },
  {
   "cell_type": "code",
   "execution_count": 41,
   "id": "da78d1c7-42c9-4bdf-801c-827f1f1502d7",
   "metadata": {},
   "outputs": [
    {
     "data": {
      "text/plain": [
       "['p', 'w', 's', 'k', 'i', 'l', 'l', 's']"
      ]
     },
     "execution_count": 41,
     "metadata": {},
     "output_type": "execute_result"
    }
   ],
   "source": [
    "l3"
   ]
  },
  {
   "cell_type": "markdown",
   "id": "19e494fa-947c-49be-a9c6-b7f5b4bdb795",
   "metadata": {},
   "source": [
    "Q-8"
   ]
  },
  {
   "cell_type": "code",
   "execution_count": 50,
   "id": "0467eb08-36e7-4ab6-9d19-c444dd653262",
   "metadata": {},
   "outputs": [
    {
     "name": "stdin",
     "output_type": "stream",
     "text": [
      "number 55355\n"
     ]
    },
    {
     "name": "stdout",
     "output_type": "stream",
     "text": [
      "Palindrome\n"
     ]
    }
   ],
   "source": [
    "num=int(input(\"number\"))\n",
    "reverse = int(str(num)[::-1])\n",
    "\n",
    "if num == reverse:\n",
    "  print('Palindrome')\n",
    "else:\n",
    "  print(\"Not Palindrome\")"
   ]
  },
  {
   "cell_type": "markdown",
   "id": "57d77761-810c-4fb4-a158-7276e523c5d1",
   "metadata": {},
   "source": [
    "Q-9"
   ]
  },
  {
   "cell_type": "code",
   "execution_count": 57,
   "id": "be80a988-501c-450d-86d3-a1cf12193433",
   "metadata": {},
   "outputs": [
    {
     "data": {
      "text/plain": [
       "<filter at 0x7f410c282da0>"
      ]
     },
     "execution_count": 57,
     "metadata": {},
     "output_type": "execute_result"
    }
   ],
   "source": [
    "l4=[]\n",
    "for i in range(0,100):\n",
    "    l4.append(i)\n",
    "filter(lambda x: x%2!=0,l4)"
   ]
  },
  {
   "cell_type": "code",
   "execution_count": 49,
   "id": "986c75bf-2b0c-4bc2-969a-0900c42c9f52",
   "metadata": {},
   "outputs": [
    {
     "data": {
      "text/plain": [
       "'551'"
      ]
     },
     "execution_count": 49,
     "metadata": {},
     "output_type": "execute_result"
    }
   ],
   "source": []
  },
  {
   "cell_type": "code",
   "execution_count": null,
   "id": "958aaecb-81ff-42f4-90eb-4b99fbf5733d",
   "metadata": {},
   "outputs": [],
   "source": []
  }
 ],
 "metadata": {
  "kernelspec": {
   "display_name": "Python 3 (ipykernel)",
   "language": "python",
   "name": "python3"
  },
  "language_info": {
   "codemirror_mode": {
    "name": "ipython",
    "version": 3
   },
   "file_extension": ".py",
   "mimetype": "text/x-python",
   "name": "python",
   "nbconvert_exporter": "python",
   "pygments_lexer": "ipython3",
   "version": "3.10.8"
  }
 },
 "nbformat": 4,
 "nbformat_minor": 5
}
