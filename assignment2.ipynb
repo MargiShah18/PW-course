{
 "cells": [
  {
   "cell_type": "markdown",
   "id": "dac090fd-4cd6-4a40-9354-8e212f6c72db",
   "metadata": {},
   "source": [
    "Q-1"
   ]
  },
  {
   "cell_type": "markdown",
   "id": "7c40935d-33cb-4cce-9d9b-327536164c12",
   "metadata": {},
   "source": [
    "There are two types of comments in python \n",
    "1. Single-line and\n",
    "2. Multi-line \n"
   ]
  },
  {
   "cell_type": "code",
   "execution_count": 1,
   "id": "f927168b-5347-4c0d-bd3e-4764acb8b790",
   "metadata": {},
   "outputs": [],
   "source": [
    "#This is single line comment#\n",
    "\n"
   ]
  },
  {
   "cell_type": "code",
   "execution_count": 2,
   "id": "79ba938c-5952-4f36-b5f2-edacc2a3d720",
   "metadata": {},
   "outputs": [],
   "source": [
    "# This \n",
    "# is a   \n",
    "# multi line comment \n",
    "\n"
   ]
  },
  {
   "cell_type": "markdown",
   "id": "cc3365e0-c0e1-45ad-8466-a0c8202ad92c",
   "metadata": {},
   "source": [
    "Q-2\n"
   ]
  },
  {
   "cell_type": "markdown",
   "id": "811f65a6-1a0d-41f4-a757-c451a88b7e96",
   "metadata": {},
   "source": [
    "Variables are containers for storing data\n",
    "\n",
    "Unlike other languages python do not have a command ofr declaring variables.\n",
    "\n",
    " variable is created the moment you first assign a value to it"
   ]
  },
  {
   "cell_type": "code",
   "execution_count": 3,
   "id": "db51421c-761e-46e8-8480-79cc11cd6214",
   "metadata": {},
   "outputs": [],
   "source": [
    "var=12\n",
    "a=13"
   ]
  },
  {
   "cell_type": "code",
   "execution_count": 4,
   "id": "753fe1a7-8026-4b05-ab09-ad90b05421f8",
   "metadata": {},
   "outputs": [
    {
     "data": {
      "text/plain": [
       "12"
      ]
     },
     "execution_count": 4,
     "metadata": {},
     "output_type": "execute_result"
    }
   ],
   "source": [
    "var"
   ]
  },
  {
   "cell_type": "code",
   "execution_count": 5,
   "id": "7fd1dca9-b406-400e-98d4-6c1ae6dc9542",
   "metadata": {},
   "outputs": [
    {
     "data": {
      "text/plain": [
       "13"
      ]
     },
     "execution_count": 5,
     "metadata": {},
     "output_type": "execute_result"
    }
   ],
   "source": [
    "a"
   ]
  },
  {
   "cell_type": "markdown",
   "id": "cb7c6572-5f75-4f7f-a56d-5fdc0717a7da",
   "metadata": {},
   "source": [
    "Q-3"
   ]
  },
  {
   "cell_type": "markdown",
   "id": "a56e46c3-9407-4f77-94d1-07e3e96df0ef",
   "metadata": {},
   "source": [
    "using type conversion we can convert one data type into other"
   ]
  },
  {
   "cell_type": "code",
   "execution_count": 12,
   "id": "b9cf9423-c1db-4d18-9381-09f24cca0fa2",
   "metadata": {},
   "outputs": [
    {
     "data": {
      "text/plain": [
       "int"
      ]
     },
     "execution_count": 12,
     "metadata": {},
     "output_type": "execute_result"
    }
   ],
   "source": [
    "a=18\n",
    "type(a)"
   ]
  },
  {
   "cell_type": "code",
   "execution_count": 13,
   "id": "e223788c-bb7c-40f9-96fa-88daaa3265ed",
   "metadata": {},
   "outputs": [
    {
     "data": {
      "text/plain": [
       "18"
      ]
     },
     "execution_count": 13,
     "metadata": {},
     "output_type": "execute_result"
    }
   ],
   "source": [
    "a"
   ]
  },
  {
   "cell_type": "code",
   "execution_count": 14,
   "id": "e4675b2e-d87b-4990-95c2-75dc9892afb1",
   "metadata": {},
   "outputs": [
    {
     "data": {
      "text/plain": [
       "str"
      ]
     },
     "execution_count": 14,
     "metadata": {},
     "output_type": "execute_result"
    }
   ],
   "source": [
    "a=str(a)\n",
    "type(a)"
   ]
  },
  {
   "cell_type": "code",
   "execution_count": 15,
   "id": "0cc36790-4ccc-4fae-9973-abfc7b8e1a8b",
   "metadata": {},
   "outputs": [
    {
     "data": {
      "text/plain": [
       "'18'"
      ]
     },
     "execution_count": 15,
     "metadata": {},
     "output_type": "execute_result"
    }
   ],
   "source": [
    "a"
   ]
  },
  {
   "cell_type": "markdown",
   "id": "228a66cb-1c54-4c99-a4ae-b0af0173a065",
   "metadata": {},
   "source": [
    "Q-4"
   ]
  },
  {
   "cell_type": "markdown",
   "id": "f614461e-d3ee-4bf1-925d-948da339d063",
   "metadata": {},
   "source": [
    "to write and execute a python script from command line\n",
    "\n",
    "open a command-line and type python3 and then write following code:\n",
    "    \n",
    "    $ python3 hello.py\n",
    "    Hello World!\n",
    "\n",
    "then press enter"
   ]
  },
  {
   "cell_type": "markdown",
   "id": "b7bab6b9-7c94-45fb-b118-5b8abd7ad9bc",
   "metadata": {},
   "source": [
    "Q-5"
   ]
  },
  {
   "cell_type": "code",
   "execution_count": 16,
   "id": "6b5315d1-639d-442b-a289-1a315586c976",
   "metadata": {},
   "outputs": [],
   "source": [
    "my_list=[1,2,3,4,5]"
   ]
  },
  {
   "cell_type": "code",
   "execution_count": 20,
   "id": "f620c9db-a552-45ff-bdbd-388d05b555b3",
   "metadata": {},
   "outputs": [],
   "source": [
    "sub_list=my_list[1:3]"
   ]
  },
  {
   "cell_type": "code",
   "execution_count": 21,
   "id": "f363f06d-4b1a-4aac-9df2-9a383eaa481a",
   "metadata": {},
   "outputs": [
    {
     "data": {
      "text/plain": [
       "[2, 3]"
      ]
     },
     "execution_count": 21,
     "metadata": {},
     "output_type": "execute_result"
    }
   ],
   "source": [
    "sub_list"
   ]
  },
  {
   "cell_type": "markdown",
   "id": "a694d0d1-daf0-4b44-843e-2e93319c9a8c",
   "metadata": {},
   "source": [
    "Q-6"
   ]
  },
  {
   "cell_type": "markdown",
   "id": "ca3ceeab-2dcb-4323-a41c-4f7f0a8c73da",
   "metadata": {},
   "source": [
    "An complex number is represented by “ x + yi “.\n",
    "\n",
    "x is real part and y is imaginary part"
   ]
  },
  {
   "cell_type": "code",
   "execution_count": 22,
   "id": "ae9c36aa-defa-4f7a-95fb-9c8ed3c55b0a",
   "metadata": {},
   "outputs": [],
   "source": [
    "#in python it is represented as\n",
    "c=3+6j\n",
    "#3 is real and 6 is imaginart"
   ]
  },
  {
   "cell_type": "code",
   "execution_count": 23,
   "id": "ab2776f4-d11e-42b2-93eb-55359d24c5ee",
   "metadata": {},
   "outputs": [
    {
     "data": {
      "text/plain": [
       "3.0"
      ]
     },
     "execution_count": 23,
     "metadata": {},
     "output_type": "execute_result"
    }
   ],
   "source": [
    "c.real"
   ]
  },
  {
   "cell_type": "code",
   "execution_count": 24,
   "id": "021a9cd3-aaf5-48ca-90d0-88bbce83d217",
   "metadata": {},
   "outputs": [
    {
     "data": {
      "text/plain": [
       "6.0"
      ]
     },
     "execution_count": 24,
     "metadata": {},
     "output_type": "execute_result"
    }
   ],
   "source": [
    "c.imag"
   ]
  },
  {
   "cell_type": "markdown",
   "id": "47188e32-7854-4b38-85d9-64ffdc6f8edf",
   "metadata": {},
   "source": [
    "Q-7"
   ]
  },
  {
   "cell_type": "markdown",
   "id": "e01b4720-c51a-4f0a-b553-3277122fc6de",
   "metadata": {},
   "source": [
    "Create a variable called age and type in your age."
   ]
  },
  {
   "cell_type": "code",
   "execution_count": 25,
   "id": "ba320496-6157-4a45-9d8d-2102e7315947",
   "metadata": {},
   "outputs": [],
   "source": [
    "age=25"
   ]
  },
  {
   "cell_type": "code",
   "execution_count": 26,
   "id": "e1892dda-512a-43ff-b42f-ef52b1dd8d25",
   "metadata": {},
   "outputs": [
    {
     "data": {
      "text/plain": [
       "25"
      ]
     },
     "execution_count": 26,
     "metadata": {},
     "output_type": "execute_result"
    }
   ],
   "source": [
    "age"
   ]
  },
  {
   "cell_type": "markdown",
   "id": "5ac44917-b89d-4505-a70e-751e851c1f9b",
   "metadata": {},
   "source": [
    "Q-8"
   ]
  },
  {
   "cell_type": "code",
   "execution_count": 27,
   "id": "87102d4a-d9f4-4200-826e-b8a3e68ba44d",
   "metadata": {},
   "outputs": [
    {
     "data": {
      "text/plain": [
       "float"
      ]
     },
     "execution_count": 27,
     "metadata": {},
     "output_type": "execute_result"
    }
   ],
   "source": [
    "price=9.99\n",
    "type(price)"
   ]
  },
  {
   "cell_type": "markdown",
   "id": "c11299ea-29e0-49f1-94c5-d15acc9bb3d5",
   "metadata": {},
   "source": [
    "Q-9"
   ]
  },
  {
   "cell_type": "code",
   "execution_count": 29,
   "id": "055ae9a6-7287-425c-89cd-4aa55177e77d",
   "metadata": {},
   "outputs": [
    {
     "name": "stdout",
     "output_type": "stream",
     "text": [
      "Margi Shah\n"
     ]
    }
   ],
   "source": [
    "name=\"Margi Shah\"\n",
    "print(name)"
   ]
  },
  {
   "cell_type": "markdown",
   "id": "306a78d1-bceb-4d99-aa44-47ce9056d137",
   "metadata": {},
   "source": [
    "Q-10"
   ]
  },
  {
   "cell_type": "code",
   "execution_count": 30,
   "id": "9610f102-9a89-4d54-9bb0-6ba2ca1fbd22",
   "metadata": {},
   "outputs": [],
   "source": [
    "var=\"Hello,World!\""
   ]
  },
  {
   "cell_type": "code",
   "execution_count": 33,
   "id": "1f225afa-96fe-4505-8803-29c9a5ba6d07",
   "metadata": {},
   "outputs": [
    {
     "data": {
      "text/plain": [
       "'World'"
      ]
     },
     "execution_count": 33,
     "metadata": {},
     "output_type": "execute_result"
    }
   ],
   "source": [
    "var[6:11]"
   ]
  },
  {
   "cell_type": "markdown",
   "id": "08cddd75-d8b0-4c37-ad92-fb141ec358f5",
   "metadata": {},
   "source": [
    "Q-11"
   ]
  },
  {
   "cell_type": "code",
   "execution_count": 38,
   "id": "fca55981-47dc-48d1-9414-df84f1210f4a",
   "metadata": {},
   "outputs": [
    {
     "name": "stdin",
     "output_type": "stream",
     "text": [
      "Enter yes if you are student, otherwise no yes\n"
     ]
    }
   ],
   "source": [
    "is_student=bool(input(\"Enter yes if you are student, otherwise no\"))"
   ]
  },
  {
   "cell_type": "code",
   "execution_count": null,
   "id": "6b02b3fc-6a52-4f7c-8997-8c58500ea539",
   "metadata": {},
   "outputs": [],
   "source": [
    "is"
   ]
  }
 ],
 "metadata": {
  "kernelspec": {
   "display_name": "Python 3 (ipykernel)",
   "language": "python",
   "name": "python3"
  },
  "language_info": {
   "codemirror_mode": {
    "name": "ipython",
    "version": 3
   },
   "file_extension": ".py",
   "mimetype": "text/x-python",
   "name": "python",
   "nbconvert_exporter": "python",
   "pygments_lexer": "ipython3",
   "version": "3.10.8"
  }
 },
 "nbformat": 4,
 "nbformat_minor": 5
}
