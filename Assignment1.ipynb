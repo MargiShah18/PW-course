{
 "cells": [
  {
   "cell_type": "markdown",
   "id": "a2f47b10-7d70-4fd7-889e-6ba3fd6bcd13",
   "metadata": {},
   "source": [
    "Q-1"
   ]
  },
  {
   "cell_type": "code",
   "execution_count": 1,
   "id": "c53cc7a5-a512-45ae-8db7-4bb2f911cfa0",
   "metadata": {},
   "outputs": [
    {
     "data": {
      "text/plain": [
       "str"
      ]
     },
     "execution_count": 1,
     "metadata": {},
     "output_type": "execute_result"
    }
   ],
   "source": [
    "a=\"Margi\"\n",
    "type(a)"
   ]
  },
  {
   "cell_type": "code",
   "execution_count": 2,
   "id": "0ddb1766-caf8-46f8-a4a4-8d97147c6f9e",
   "metadata": {},
   "outputs": [
    {
     "data": {
      "text/plain": [
       "list"
      ]
     },
     "execution_count": 2,
     "metadata": {},
     "output_type": "execute_result"
    }
   ],
   "source": [
    "b=[1,2,3,4,\"Margi\",\"Shah\",23.33,6+7j]\n",
    "type(b)"
   ]
  },
  {
   "cell_type": "code",
   "execution_count": 3,
   "id": "d8fdfb99-f1b1-4027-9c97-40a7aca25008",
   "metadata": {},
   "outputs": [
    {
     "data": {
      "text/plain": [
       "float"
      ]
     },
     "execution_count": 3,
     "metadata": {},
     "output_type": "execute_result"
    }
   ],
   "source": [
    "c=23.33\n",
    "type(c)"
   ]
  },
  {
   "cell_type": "code",
   "execution_count": 4,
   "id": "11a73cc3-742f-4790-8677-8340132a554c",
   "metadata": {},
   "outputs": [
    {
     "data": {
      "text/plain": [
       "tuple"
      ]
     },
     "execution_count": 4,
     "metadata": {},
     "output_type": "execute_result"
    }
   ],
   "source": [
    "d=(1,2,3,4,\"Margi\",\"Shah\",23.33,6+7j)\n",
    "type(d)"
   ]
  },
  {
   "cell_type": "markdown",
   "id": "ad34cd49-ad4a-41b1-999a-2efd10d12fd6",
   "metadata": {},
   "source": [
    "Q-2"
   ]
  },
  {
   "cell_type": "code",
   "execution_count": 5,
   "id": "7dd341de-a2ff-4e2d-a66d-66f4c83bfa8f",
   "metadata": {},
   "outputs": [
    {
     "data": {
      "text/plain": [
       "str"
      ]
     },
     "execution_count": 5,
     "metadata": {},
     "output_type": "execute_result"
    }
   ],
   "source": [
    "var1=''\n",
    "type(var1)\n"
   ]
  },
  {
   "cell_type": "code",
   "execution_count": 6,
   "id": "1f620656-7206-4f60-aa25-af5d29243ef8",
   "metadata": {},
   "outputs": [
    {
     "data": {
      "text/plain": [
       "str"
      ]
     },
     "execution_count": 6,
     "metadata": {},
     "output_type": "execute_result"
    }
   ],
   "source": [
    "var2='[DS,ML,Python]'\n",
    "type(var2)\n"
   ]
  },
  {
   "cell_type": "code",
   "execution_count": 7,
   "id": "0fd1b438-4f7b-4b8b-b4b2-509d6daf57e6",
   "metadata": {},
   "outputs": [
    {
     "data": {
      "text/plain": [
       "list"
      ]
     },
     "execution_count": 7,
     "metadata": {},
     "output_type": "execute_result"
    }
   ],
   "source": [
    "var3=['DS','Ml','Python']\n",
    "type(var3)"
   ]
  },
  {
   "cell_type": "code",
   "execution_count": 8,
   "id": "d047e028-d517-4791-b63a-ef7b12700f01",
   "metadata": {},
   "outputs": [
    {
     "data": {
      "text/plain": [
       "int"
      ]
     },
     "execution_count": 8,
     "metadata": {},
     "output_type": "execute_result"
    }
   ],
   "source": [
    "var4=1\n",
    "type(var4)"
   ]
  },
  {
   "cell_type": "markdown",
   "id": "5bd36803-e799-48fc-9998-c2c7983ff5a7",
   "metadata": {},
   "source": [
    "Q-3"
   ]
  },
  {
   "cell_type": "code",
   "execution_count": 9,
   "id": "e93b0a7e-239a-4531-b71a-c522d417fe4b",
   "metadata": {},
   "outputs": [],
   "source": [
    "a=10\n",
    "b=2\n"
   ]
  },
  {
   "cell_type": "code",
   "execution_count": 10,
   "id": "4ddea81e-54a9-4fbc-9f72-3de5b24e6453",
   "metadata": {},
   "outputs": [
    {
     "name": "stdout",
     "output_type": "stream",
     "text": [
      "a/b= 5.0\n",
      "a%b= 0\n",
      "a//b= 5\n",
      "a**b= 100\n"
     ]
    }
   ],
   "source": [
    "print(\"a/b=\",a/b)\n",
    "print(\"a%b=\",a%b)\n",
    "print(\"a//b=\",a//b)\n",
    "print(\"a**b=\",a**b)"
   ]
  },
  {
   "cell_type": "markdown",
   "id": "2f05b1b7-5301-4334-ad26-e538ca2cf895",
   "metadata": {},
   "source": [
    "Q-4"
   ]
  },
  {
   "cell_type": "code",
   "execution_count": 11,
   "id": "39623455-8f55-4d24-94de-ef228d338659",
   "metadata": {},
   "outputs": [
    {
     "name": "stdout",
     "output_type": "stream",
     "text": [
      "1\n",
      "<class 'int'>\n",
      "2\n",
      "<class 'int'>\n",
      "3\n",
      "<class 'int'>\n",
      "4\n",
      "<class 'int'>\n",
      "Margi\n",
      "<class 'str'>\n",
      "Shah\n",
      "<class 'str'>\n",
      "23.33\n",
      "<class 'float'>\n",
      "(6+7j)\n",
      "<class 'complex'>\n"
     ]
    }
   ],
   "source": [
    "l=[1,2,3,4,\"Margi\",\"Shah\",23.33,6+7j]\n",
    "for i in l:\n",
    "    print(i)\n",
    "    print(type(i))"
   ]
  },
  {
   "cell_type": "markdown",
   "id": "fbe5464a-998f-45be-a653-e721c9f84097",
   "metadata": {},
   "source": [
    "Q-5"
   ]
  },
  {
   "cell_type": "code",
   "execution_count": 12,
   "id": "37706298-e8fd-4e27-8f62-db272eb319dc",
   "metadata": {},
   "outputs": [
    {
     "name": "stdin",
     "output_type": "stream",
     "text": [
      "enter a number to be divided 100\n",
      "enter other number 10\n"
     ]
    },
    {
     "name": "stdout",
     "output_type": "stream",
     "text": [
      "2\n"
     ]
    }
   ],
   "source": [
    "a=int(input(\"enter a number to be divided\"))\n",
    "b=int(input(\"enter other number\"))\n",
    "i=0\n",
    "while a%b==0:\n",
    "    a//=b\n",
    "    i=i+1\n",
    "print(i)"
   ]
  },
  {
   "cell_type": "markdown",
   "id": "90c1214b-1b08-4b13-b59c-e635b55d9fac",
   "metadata": {},
   "source": [
    "Q-6"
   ]
  },
  {
   "cell_type": "code",
   "execution_count": 13,
   "id": "537d3f0e-f0ba-4bb7-baab-eafa15b122e3",
   "metadata": {},
   "outputs": [
    {
     "name": "stdout",
     "output_type": "stream",
     "text": [
      "1 is not divisible by 3\n",
      "2 is not divisible by 3\n",
      "3  is divisible by 3\n",
      "4 is not divisible by 3\n",
      "5 is not divisible by 3\n",
      "6  is divisible by 3\n",
      "7 is not divisible by 3\n",
      "8 is not divisible by 3\n",
      "9  is divisible by 3\n",
      "10 is not divisible by 3\n",
      "11 is not divisible by 3\n",
      "12  is divisible by 3\n",
      "13 is not divisible by 3\n",
      "14 is not divisible by 3\n",
      "15  is divisible by 3\n",
      "16 is not divisible by 3\n",
      "17 is not divisible by 3\n",
      "18  is divisible by 3\n",
      "19 is not divisible by 3\n",
      "20 is not divisible by 3\n",
      "21  is divisible by 3\n",
      "22 is not divisible by 3\n",
      "23 is not divisible by 3\n",
      "24  is divisible by 3\n",
      "25 is not divisible by 3\n"
     ]
    }
   ],
   "source": [
    "l1=[1,2,3,4,5,6,7,8,9,10,11,12,13,14,15,16,17,18,19,20,21,22,23,24,25]\n",
    "for i in l1:\n",
    "    if i%3==0:\n",
    "        print(i,\" is divisible by 3\")\n",
    "    else:\n",
    "        print(i, \"is not divisible by 3\")\n",
    "              "
   ]
  },
  {
   "cell_type": "markdown",
   "id": "88664d3d-c611-4b6f-9b5c-b41671e47cba",
   "metadata": {},
   "source": [
    "Q-7"
   ]
  },
  {
   "cell_type": "markdown",
   "id": "aace0c87-3e6e-45e5-b1bc-8fa9621e63b3",
   "metadata": {},
   "source": [
    "mutable=once created can be modified for example list,dictionaries and\n",
    "immutable= once created cannot be modified for example string,tuples"
   ]
  },
  {
   "cell_type": "markdown",
   "id": "d9cede37-80e5-4758-96d5-1f9466da553a",
   "metadata": {},
   "source": [
    "mutable"
   ]
  },
  {
   "cell_type": "code",
   "execution_count": 14,
   "id": "490922ef-a52e-4a6d-ad6f-58e449a8f57f",
   "metadata": {},
   "outputs": [
    {
     "data": {
      "text/plain": [
       "[1, 2, 15, 4]"
      ]
     },
     "execution_count": 14,
     "metadata": {},
     "output_type": "execute_result"
    }
   ],
   "source": [
    "l=[1,2,3,4]\n",
    "l[2]=15\n",
    "l"
   ]
  },
  {
   "cell_type": "markdown",
   "id": "2e629156-1238-44ce-b366-8ced745c15bb",
   "metadata": {},
   "source": [
    "immutable"
   ]
  },
  {
   "cell_type": "code",
   "execution_count": 15,
   "id": "072ef294-e838-4e13-bd4b-849384fdecfa",
   "metadata": {},
   "outputs": [
    {
     "data": {
      "text/plain": [
       "(1, 2, 3, 4, 5, 6)"
      ]
     },
     "execution_count": 15,
     "metadata": {},
     "output_type": "execute_result"
    }
   ],
   "source": [
    "t=(1,2,3,4)\n",
    "#t(2)=15\n",
    "#t\n",
    "#thus this is not possible but we can add \n",
    "t+=(5,6)\n",
    "t"
   ]
  }
 ],
 "metadata": {
  "kernelspec": {
   "display_name": "Python 3 (ipykernel)",
   "language": "python",
   "name": "python3"
  },
  "language_info": {
   "codemirror_mode": {
    "name": "ipython",
    "version": 3
   },
   "file_extension": ".py",
   "mimetype": "text/x-python",
   "name": "python",
   "nbconvert_exporter": "python",
   "pygments_lexer": "ipython3",
   "version": "3.10.8"
  }
 },
 "nbformat": 4,
 "nbformat_minor": 5
}
