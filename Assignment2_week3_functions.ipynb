{
 "cells": [
  {
   "cell_type": "markdown",
   "id": "b5f6d5e7-2911-4683-8caa-0abb1d9ec853",
   "metadata": {},
   "source": [
    "Q-1"
   ]
  },
  {
   "cell_type": "code",
   "execution_count": 1,
   "id": "c9404364-0775-46bd-b6b0-9e4af964420e",
   "metadata": {},
   "outputs": [],
   "source": [
    "l1=[('Sachin Tendulkar',34357),('Ricky Ponting', 27483), ('Jack Kallis', 25534), ('Virat Kohli', 24936)]"
   ]
  },
  {
   "cell_type": "code",
   "execution_count": 4,
   "id": "183206b4-241a-47f2-9877-f18a266a07fa",
   "metadata": {},
   "outputs": [
    {
     "name": "stdout",
     "output_type": "stream",
     "text": [
      "[('Virat Kohli', 24936), ('Jack Kallis', 25534), ('Ricky Ponting', 27483), ('Sachin Tendulkar', 34357)]\n"
     ]
    }
   ],
   "source": [
    "l1.sort(key=lambda x:x[1])\n",
    "print(l1)"
   ]
  },
  {
   "cell_type": "markdown",
   "id": "f55f86cb-7262-4317-a50b-c5956a1f3c49",
   "metadata": {},
   "source": [
    "Q-2"
   ]
  },
  {
   "cell_type": "code",
   "execution_count": 9,
   "id": "5eefb9b4-7aa0-4448-a626-122ecbb7a40c",
   "metadata": {},
   "outputs": [
    {
     "data": {
      "text/plain": [
       "[1, 4, 9, 16, 25, 36, 49, 64, 81, 100]"
      ]
     },
     "execution_count": 9,
     "metadata": {},
     "output_type": "execute_result"
    }
   ],
   "source": [
    "l2=[1, 2, 3, 4, 5, 6, 7, 8, 9, 10]\n",
    "list(map(lambda x:x**2,l2))"
   ]
  },
  {
   "cell_type": "markdown",
   "id": "001af640-68ee-4957-ab68-0932893bb33d",
   "metadata": {},
   "source": [
    "Q-3"
   ]
  },
  {
   "cell_type": "code",
   "execution_count": 11,
   "id": "cc180202-6910-4aa9-9a79-3d9c0843af0c",
   "metadata": {},
   "outputs": [
    {
     "data": {
      "text/plain": [
       "('1', '2', '3', '4', '5', '6', '7', '8', '9', '10')"
      ]
     },
     "execution_count": 11,
     "metadata": {},
     "output_type": "execute_result"
    }
   ],
   "source": [
    "l3=[1, 2, 3, 4, 5, 6, 7, 8, 9, 10]\n",
    "tuple(map(lambda x:str(x),l3))"
   ]
  },
  {
   "cell_type": "markdown",
   "id": "1510d0bc-7d9f-4357-8c67-bd54ded61e21",
   "metadata": {},
   "source": [
    "Q-4"
   ]
  },
  {
   "cell_type": "code",
   "execution_count": 29,
   "id": "d7a6a0b7-daa5-4d57-bdf5-84f17eb88410",
   "metadata": {},
   "outputs": [],
   "source": [
    "l4=[]\n",
    "for i in range(1,26):\n",
    "    l4.append(i)"
   ]
  },
  {
   "cell_type": "code",
   "execution_count": 30,
   "id": "ba9e4d3c-0d02-42b0-8e98-8b1dce16275e",
   "metadata": {},
   "outputs": [
    {
     "data": {
      "text/plain": [
       "[1,\n",
       " 2,\n",
       " 3,\n",
       " 4,\n",
       " 5,\n",
       " 6,\n",
       " 7,\n",
       " 8,\n",
       " 9,\n",
       " 10,\n",
       " 11,\n",
       " 12,\n",
       " 13,\n",
       " 14,\n",
       " 15,\n",
       " 16,\n",
       " 17,\n",
       " 18,\n",
       " 19,\n",
       " 20,\n",
       " 21,\n",
       " 22,\n",
       " 23,\n",
       " 24,\n",
       " 25]"
      ]
     },
     "execution_count": 30,
     "metadata": {},
     "output_type": "execute_result"
    }
   ],
   "source": [
    "l4"
   ]
  },
  {
   "cell_type": "code",
   "execution_count": 31,
   "id": "a8f63156-9e10-4c11-a5a1-272bf7eefd89",
   "metadata": {},
   "outputs": [
    {
     "data": {
      "text/plain": [
       "15511210043330985984000000"
      ]
     },
     "execution_count": 31,
     "metadata": {},
     "output_type": "execute_result"
    }
   ],
   "source": [
    "from functools import reduce\n",
    "reduce(lambda x,y:x*y,l4)"
   ]
  },
  {
   "cell_type": "markdown",
   "id": "8a8b4500-6a37-4bae-952d-fe612e44062f",
   "metadata": {},
   "source": [
    "Q-5"
   ]
  },
  {
   "cell_type": "code",
   "execution_count": 32,
   "id": "fd3bf9e4-5c2c-4aad-97c9-e96b7eb532af",
   "metadata": {},
   "outputs": [],
   "source": [
    "l5=[2, 3, 6, 9, 27, 60, 90, 120, 55, 46] "
   ]
  },
  {
   "cell_type": "code",
   "execution_count": 33,
   "id": "f24c7448-d51e-4f7e-8420-c5c850741c24",
   "metadata": {},
   "outputs": [
    {
     "data": {
      "text/plain": [
       "[6, 60, 90, 120]"
      ]
     },
     "execution_count": 33,
     "metadata": {},
     "output_type": "execute_result"
    }
   ],
   "source": [
    "list(filter(lambda x:x%2==0 and x%3==0,l5))"
   ]
  },
  {
   "cell_type": "markdown",
   "id": "ef88ab89-bde1-4677-83c4-0a5e6c4b61f7",
   "metadata": {},
   "source": [
    "Q-6"
   ]
  },
  {
   "cell_type": "code",
   "execution_count": null,
   "id": "7eea029c-5d91-4d91-9407-760589936b17",
   "metadata": {},
   "outputs": [],
   "source": []
  },
  {
   "cell_type": "code",
   "execution_count": null,
   "id": "4c3dc4f8-e43f-4491-8227-f4c5760f9a76",
   "metadata": {},
   "outputs": [],
   "source": []
  }
 ],
 "metadata": {
  "kernelspec": {
   "display_name": "Python 3 (ipykernel)",
   "language": "python",
   "name": "python3"
  },
  "language_info": {
   "codemirror_mode": {
    "name": "ipython",
    "version": 3
   },
   "file_extension": ".py",
   "mimetype": "text/x-python",
   "name": "python",
   "nbconvert_exporter": "python",
   "pygments_lexer": "ipython3",
   "version": "3.10.8"
  }
 },
 "nbformat": 4,
 "nbformat_minor": 5
}
