{
 "cells": [
  {
   "cell_type": "markdown",
   "id": "f3a1e0c2-ec01-43f7-9791-5a55b3b633eb",
   "metadata": {},
   "source": [
    "Q-1"
   ]
  },
  {
   "cell_type": "code",
   "execution_count": 6,
   "id": "63b36e3f-0925-4806-a20f-c9a4f3d41bad",
   "metadata": {},
   "outputs": [],
   "source": [
    "class vehicle:\n",
    "    def __init__(self,name_of_vehicle,max_speed,average_of_vehicle):\n",
    "        self.name_of_vehicle=name_of_vehicle\n",
    "        self.max_speed=max_speed\n",
    "        self.average_of_vehicle=average_of_vehicle\n",
    "    \n",
    "    def return_details(self):\n",
    "        return self.name_of_vehicle,self.max_speed,self.average_of_vehicle"
   ]
  },
  {
   "cell_type": "code",
   "execution_count": 7,
   "id": "291240a5-e2fb-4ff0-93f4-5443541cad40",
   "metadata": {},
   "outputs": [],
   "source": [
    "vehicle_obj=vehicle(\"alto\",220,13)"
   ]
  },
  {
   "cell_type": "code",
   "execution_count": 9,
   "id": "cdc38d19-5bff-43e1-aa74-8fb27beb8081",
   "metadata": {},
   "outputs": [
    {
     "data": {
      "text/plain": [
       "('alto', 220, 13)"
      ]
     },
     "execution_count": 9,
     "metadata": {},
     "output_type": "execute_result"
    }
   ],
   "source": [
    "vehicle_obj.return_details()"
   ]
  },
  {
   "cell_type": "markdown",
   "id": "d61e0593-d132-4bc5-b06b-8d4cae73f172",
   "metadata": {},
   "source": [
    "Q-2"
   ]
  },
  {
   "cell_type": "code",
   "execution_count": 32,
   "id": "862a64dc-c62a-4ab2-a540-2abf5a4ffd07",
   "metadata": {},
   "outputs": [],
   "source": [
    "class Car(vehicle):\n",
    "    def seating_capacity(self, capacity):\n",
    "        return f\"name of car {self.name_of_vehicle}, maximum capacity {capacity}.\""
   ]
  },
  {
   "cell_type": "code",
   "execution_count": 33,
   "id": "23158915-41af-4d9b-a8e3-81e391dddfcb",
   "metadata": {},
   "outputs": [],
   "source": [
    "my_car = Car(\"Toyota Camry\", 120, 30)"
   ]
  },
  {
   "cell_type": "code",
   "execution_count": 34,
   "id": "89a2bc10-8fab-4632-a525-4412bd0c8f37",
   "metadata": {},
   "outputs": [],
   "source": [
    "seating_capacity = my_car.seating_capacity(5)"
   ]
  },
  {
   "cell_type": "code",
   "execution_count": 35,
   "id": "56716577-9473-4f93-b916-86fe74d7f58a",
   "metadata": {},
   "outputs": [
    {
     "name": "stdout",
     "output_type": "stream",
     "text": [
      "name of car Toyota Camry, maximum capacity 5.\n"
     ]
    }
   ],
   "source": [
    "print(seating_capacity)"
   ]
  },
  {
   "cell_type": "markdown",
   "id": "5a510aca-e9b0-4208-8422-b87d38a45b6f",
   "metadata": {},
   "source": [
    "Q-3\n",
    "\n",
    "Multiple Inheritance\n",
    "\n",
    "When a class is derived from more than one base class it is called multiple Inheritance. The derived class inherits all the features of the base case."
   ]
  },
  {
   "cell_type": "code",
   "execution_count": 45,
   "id": "b1ed20b3-72c9-4307-8385-125ef19441a2",
   "metadata": {},
   "outputs": [],
   "source": [
    "class parent1:\n",
    "    def first(self):\n",
    "        return \"this is from parent 1\""
   ]
  },
  {
   "cell_type": "code",
   "execution_count": 46,
   "id": "4b4d72d6-c404-4dbd-b0fc-2c58a42ce2b1",
   "metadata": {},
   "outputs": [],
   "source": [
    "class parent2:\n",
    "    def second(self):\n",
    "        return \"this is from parent 2\""
   ]
  },
  {
   "cell_type": "code",
   "execution_count": 47,
   "id": "f14bc0e5-d330-49ac-8642-07201de9ff0f",
   "metadata": {},
   "outputs": [],
   "source": [
    "class child(parent1,parent2):\n",
    "    pass"
   ]
  },
  {
   "cell_type": "code",
   "execution_count": 48,
   "id": "46169bc7-57b2-48f4-84c3-806edac3c03d",
   "metadata": {},
   "outputs": [],
   "source": [
    "child_obj=child()"
   ]
  },
  {
   "cell_type": "code",
   "execution_count": 49,
   "id": "174c097b-0326-4b6f-b38e-ba27172705a1",
   "metadata": {},
   "outputs": [
    {
     "data": {
      "text/plain": [
       "'this is from parent 1'"
      ]
     },
     "execution_count": 49,
     "metadata": {},
     "output_type": "execute_result"
    }
   ],
   "source": [
    "child_obj.first()"
   ]
  },
  {
   "cell_type": "code",
   "execution_count": 50,
   "id": "bd741250-b72b-47cb-8df8-d86c1e2e4074",
   "metadata": {},
   "outputs": [
    {
     "data": {
      "text/plain": [
       "'this is from parent 2'"
      ]
     },
     "execution_count": 50,
     "metadata": {},
     "output_type": "execute_result"
    }
   ],
   "source": [
    "child_obj.second()"
   ]
  },
  {
   "cell_type": "markdown",
   "id": "40701791-b000-43ba-9265-38718b563f31",
   "metadata": {},
   "source": [
    "Q-4\n",
    "\n",
    "In Python, getters and setters are methods that are used to access and modify the values of private attributes of a class. They are used to achieve data encapsulation, which is the practice of wrapping data and the methods that operate on that data within a single unit. This helps to protect the data from being accessed or modified in unexpected ways.\n",
    "\n",
    "To create a getter method, you use the @property decorator. The getter method should simply return the value of the private attribute. To create a setter method, you use the @property.setter decorator. The setter method should take the new value as a parameter and assign it to the private attribute."
   ]
  },
  {
   "cell_type": "code",
   "execution_count": 5,
   "id": "254a65d9-0fed-4a09-8b5c-d59c6f68b3b0",
   "metadata": {},
   "outputs": [],
   "source": [
    "class Person:\n",
    "    def __init__(self, name):\n",
    "        self._name = name\n",
    "\n",
    "    @property\n",
    "    def name(self):\n",
    "        return self._name\n",
    "\n",
    "    @name.setter\n",
    "    def name(self, new_name):\n",
    "        self._name = new_name\n",
    "\n",
    "\n"
   ]
  },
  {
   "cell_type": "code",
   "execution_count": 6,
   "id": "3c84c282-9c73-42d6-80bf-47f68af8c33a",
   "metadata": {},
   "outputs": [
    {
     "name": "stdout",
     "output_type": "stream",
     "text": [
      "Margi Shah\n"
     ]
    }
   ],
   "source": [
    "person.name = \"Margi Shah\"\n",
    "print(person.name)  "
   ]
  },
  {
   "cell_type": "code",
   "execution_count": 7,
   "id": "08e68926-2743-4345-88f6-e77de772bf12",
   "metadata": {},
   "outputs": [
    {
     "name": "stdout",
     "output_type": "stream",
     "text": [
      "Margi Shah\n"
     ]
    }
   ],
   "source": [
    "person = Person(\"Margi Shah\")\n",
    "print(person.name)  "
   ]
  },
  {
   "cell_type": "markdown",
   "id": "8690ede0-01b8-4f52-80a5-7ffb67c65326",
   "metadata": {},
   "source": [
    "Q-5\n",
    "\n",
    "Method overriding is a feature of object-oriented programming languages that allows a subclass or child class to provide its own implementation of a method that is already defined in the parent class or superclass. In other words, the child class can change the behavior of a method that is inherited from the parent class.\n",
    "\n",
    "To override a method in Python, the child class must define a method with the same name and signature as the method in the parent class. The signature of a method is the name of the method, the number and type of its parameters, and the return type."
   ]
  },
  {
   "cell_type": "code",
   "execution_count": 9,
   "id": "d218d00d-2604-4595-b05d-c3baf22ac434",
   "metadata": {},
   "outputs": [],
   "source": [
    "class Animal:\n",
    "    def make_sound(self):\n",
    "        pass"
   ]
  },
  {
   "cell_type": "code",
   "execution_count": 10,
   "id": "fb9f456e-689f-428e-9e1f-461334454535",
   "metadata": {},
   "outputs": [],
   "source": [
    "class Dog(Animal):\n",
    "    def make_sound(self):\n",
    "        return 'woof'"
   ]
  },
  {
   "cell_type": "code",
   "execution_count": 11,
   "id": "a45138c1-b5a6-4b9f-b9dd-e0fae40b5ffa",
   "metadata": {},
   "outputs": [],
   "source": [
    "dog = Dog()\n"
   ]
  },
  {
   "cell_type": "code",
   "execution_count": 12,
   "id": "2de51f53-dc72-49ff-a4cd-266e63b04a9a",
   "metadata": {},
   "outputs": [
    {
     "data": {
      "text/plain": [
       "'woof'"
      ]
     },
     "execution_count": 12,
     "metadata": {},
     "output_type": "execute_result"
    }
   ],
   "source": [
    "dog.make_sound()"
   ]
  },
  {
   "cell_type": "code",
   "execution_count": null,
   "id": "8532dc6c-0a35-47b3-ad72-7dee7f2f9329",
   "metadata": {},
   "outputs": [],
   "source": []
  }
 ],
 "metadata": {
  "kernelspec": {
   "display_name": "Python 3 (ipykernel)",
   "language": "python",
   "name": "python3"
  },
  "language_info": {
   "codemirror_mode": {
    "name": "ipython",
    "version": 3
   },
   "file_extension": ".py",
   "mimetype": "text/x-python",
   "name": "python",
   "nbconvert_exporter": "python",
   "pygments_lexer": "ipython3",
   "version": "3.10.8"
  }
 },
 "nbformat": 4,
 "nbformat_minor": 5
}
